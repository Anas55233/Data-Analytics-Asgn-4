{
 "cells": [
  {
   "cell_type": "markdown",
   "id": "9922b03c-4b8d-486b-8084-4bf29ceaa4ba",
   "metadata": {},
   "source": [
    "# Assignment No. 4"
   ]
  },
  {
   "cell_type": "markdown",
   "id": "934b024b-49e0-499b-adda-bfb4a0797777",
   "metadata": {},
   "source": [
    "### Name: 'Anas Sohail'"
   ]
  },
  {
   "cell_type": "code",
   "execution_count": 4,
   "id": "89c6d669-2fa8-41f3-89bd-ad7d50d67f36",
   "metadata": {},
   "outputs": [
    {
     "name": "stdin",
     "output_type": "stream",
     "text": [
      "Enter a guest name! anas\n"
     ]
    }
   ],
   "source": [
    "# 4-1. Guest List: If you could invite anyone, living or deceased, to dinner, who would you invite? \n",
    "# Make a list that includes at least three people you’d like to invite to dinner.\n",
    "# Then use your list to print a message to each person,inviting them to dinner.\n",
    "\n",
    "#take input for guest name\n",
    "guest_names = input(\"Enter a guest name!\")\n",
    "guest_list = []\n",
    "for guest in guest_list:\n",
    "    guest += guest_names\n",
    "    print(f\"list is: {guest}\")\n",
    "\n"
   ]
  },
  {
   "cell_type": "code",
   "execution_count": null,
   "id": "af935146-8c30-4521-89e2-6a8ed908b34a",
   "metadata": {},
   "outputs": [],
   "source": []
  }
 ],
 "metadata": {
  "kernelspec": {
   "display_name": "Python 3 (ipykernel)",
   "language": "python",
   "name": "python3"
  },
  "language_info": {
   "codemirror_mode": {
    "name": "ipython",
    "version": 3
   },
   "file_extension": ".py",
   "mimetype": "text/x-python",
   "name": "python",
   "nbconvert_exporter": "python",
   "pygments_lexer": "ipython3",
   "version": "3.12.4"
  }
 },
 "nbformat": 4,
 "nbformat_minor": 5
}
