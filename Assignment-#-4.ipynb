{
 "cells": [
  {
   "cell_type": "markdown",
   "id": "9922b03c-4b8d-486b-8084-4bf29ceaa4ba",
   "metadata": {},
   "source": [
    "# Assignment No. 4"
   ]
  },
  {
   "cell_type": "markdown",
   "id": "319f48ec-d1db-44aa-9349-8cbdd9a3b368",
   "metadata": {},
   "source": [
    "### Name : Anas Sohail"
   ]
  },
  {
   "cell_type": "markdown",
   "id": "45ccdf64-0714-4205-bc14-ba938ef8b770",
   "metadata": {},
   "source": [
    "##### All Answers of Questions in one line given below"
   ]
  },
  {
   "cell_type": "code",
   "execution_count": 107,
   "id": "4c007959-9e41-4ff7-a3b3-40683ca78441",
   "metadata": {},
   "outputs": [
    {
     "name": "stdin",
     "output_type": "stream",
     "text": [
      "How many guests would you like to invite?  5\n",
      "Enter the name of guest 1:  anas\n",
      "Enter the name of guest 2:  safeer\n",
      "Enter the name of guest 3:  hamza\n",
      "Enter the name of guest 4:  raheel\n",
      "Enter the name of guest 5:  shehroz\n"
     ]
    },
    {
     "name": "stdout",
     "output_type": "stream",
     "text": [
      "['anas', 'safeer', 'hamza', 'raheel', 'shehroz']\n",
      "anas, You are invited for dinner\n",
      "safeer, You are invited for dinner\n",
      "hamza, You are invited for dinner\n",
      "raheel, You are invited for dinner\n",
      "shehroz, You are invited for dinner\n"
     ]
    },
    {
     "name": "stdin",
     "output_type": "stream",
     "text": [
      "Enter name of guest who can't make dinner:  raheel\n",
      "Enter name of new Guest who invited you:  muneer\n"
     ]
    },
    {
     "name": "stdout",
     "output_type": "stream",
     "text": [
      "['anas', 'safeer', 'hamza', 'muneer', 'shehroz']\n",
      "anas, You are invited for dinner\n",
      "safeer, You are invited for dinner\n",
      "hamza, You are invited for dinner\n",
      "muneer, You are invited for dinner\n",
      "shehroz, You are invited for dinner\n",
      "Good news! We found a bigger dinner table, so we have more space for additional guests!\n"
     ]
    },
    {
     "name": "stdin",
     "output_type": "stream",
     "text": [
      "Add new guest no. 1:  sohail\n",
      "Add new guest no. 2:  rizwan\n",
      "Add new guest no. 3:  mustafa\n"
     ]
    },
    {
     "name": "stdout",
     "output_type": "stream",
     "text": [
      "['sohail', 'anas', 'safeer', 'rizwan', 'hamza', 'muneer', 'shehroz', 'mustafa']\n",
      "sohail, You are invited for dinner\n",
      "anas, You are invited for dinner\n",
      "safeer, You are invited for dinner\n",
      "rizwan, You are invited for dinner\n",
      "hamza, You are invited for dinner\n",
      "muneer, You are invited for dinner\n",
      "shehroz, You are invited for dinner\n",
      "mustafa, You are invited for dinner\n",
      "Unfortunately! new dinner table won’t arrive in time for the dinner, and we have space for only two guests\n"
     ]
    },
    {
     "name": "stdin",
     "output_type": "stream",
     "text": [
      "Enter the name of guest 1:  sohail\n"
     ]
    },
    {
     "name": "stdout",
     "output_type": "stream",
     "text": [
      "sohail, Sorry! we can't invite you for dinner\n"
     ]
    },
    {
     "name": "stdin",
     "output_type": "stream",
     "text": [
      "Enter the name of guest 2:  safeer\n"
     ]
    },
    {
     "name": "stdout",
     "output_type": "stream",
     "text": [
      "safeer, Sorry! we can't invite you for dinner\n"
     ]
    },
    {
     "name": "stdin",
     "output_type": "stream",
     "text": [
      "Enter the name of guest 3:  rizwan\n"
     ]
    },
    {
     "name": "stdout",
     "output_type": "stream",
     "text": [
      "rizwan, Sorry! we can't invite you for dinner\n"
     ]
    },
    {
     "name": "stdin",
     "output_type": "stream",
     "text": [
      "Enter the name of guest 4:  hamza\n"
     ]
    },
    {
     "name": "stdout",
     "output_type": "stream",
     "text": [
      "hamza, Sorry! we can't invite you for dinner\n"
     ]
    },
    {
     "name": "stdin",
     "output_type": "stream",
     "text": [
      "Enter the name of guest 5:  muneer\n"
     ]
    },
    {
     "name": "stdout",
     "output_type": "stream",
     "text": [
      "muneer, Sorry! we can't invite you for dinner\n"
     ]
    },
    {
     "name": "stdin",
     "output_type": "stream",
     "text": [
      "Enter the name of guest 6:  mustafa\n"
     ]
    },
    {
     "name": "stdout",
     "output_type": "stream",
     "text": [
      "mustafa, Sorry! we can't invite you for dinner\n",
      "['anas', 'shehroz']\n",
      "anas, You are still invited for dinner\n",
      "shehroz, You are still invited for dinner\n",
      "remaining guests also removed from list\n",
      "Now guest_list is completely empty\n",
      "[]\n"
     ]
    }
   ],
   "source": [
    "'''4-1. Guest List: If you could invite anyone, living or deceased, to dinner, who would you invite? \n",
    "Make a list that includes at least three people you’d like to invite to dinner.\n",
    "Then use your list to print a message to each person,inviting them to dinner.\n",
    "4-2. Changing Guest List: You just heard that one of your guests can’t make the dinner,\n",
    "so you need to send out a new set of invitations. You’ll have to think of someone else to invite. \n",
    "•     Start with your program from Exercise 4-1. Add a print statement at the\n",
    "end of your program stating the name of the guest who can’t make it. \n",
    "•     Modify your list, replacing the name of the guest who can’t make it with\n",
    "the name of the new person you are inviting. \n",
    "•     Print a second set of invitation messages, one for each person who is still\n",
    "in your list.\n",
    "4-3. More Guests: You just found a bigger dinner table, so now more space is\n",
    "available. Think of three more guests to invite to dinner.\n",
    "•     Start with your program from Exercise 4-1 or Exercise 4-2. Add a print\n",
    "statement to the end of your program informing people that you found a\n",
    "bigger dinner table. \n",
    "•     Use insert() to add one new guest to the beginning of your list. \n",
    "•     Use insert() to add one new guest to the middle of your list. \n",
    "•     Use append() to add one new guest to the end of your list. \n",
    "•     Print a new set of invitation messages, one for each person in your list. \n",
    " 4-4. Shrinking Guest List: You just found out that your new dinner table won’t\n",
    "arrive in time for the dinner, and you have space for only two guests. \n",
    "•     Start with your program from Exercise 4-3. Add a new line that prints a\n",
    "message saying that you can invite only two people for dinner. \n",
    "•     Use pop() to remove guests from your list one at a time until only two\n",
    "names remain in your list. Each time you pop a name from your list, print\n",
    "a message to that person letting them know you’re sorry you can’t invite\n",
    "them to dinner. \n",
    "•     Print a message to each of the two people still on your list, letting them\n",
    "know they’re still invited. \n",
    "•     Use del to remove the last two names from your list, so you have an empty\n",
    "list. Print your list to make sure you actually have an empty list at the end\n",
    "of your program.'''\n",
    "\n",
    "\n",
    "\n",
    "\n",
    "\n",
    "\n",
    "#Take input feom user to invite no. of guests\n",
    "num_guests = int(input(\"How many guests would you like to invite? \"))\n",
    "\n",
    "#make empty guest list\n",
    "guest_list = []\n",
    "\n",
    "# using for loop to add user name into list by append()\n",
    "for i in range(num_guests):\n",
    "    guest_names = input(f\"Enter the name of guest {i+1}: \")\n",
    "    guest_list.append(guest_names)\n",
    "\n",
    "#print guest list to see what user gave input\n",
    "print(guest_list)\n",
    "\n",
    "# using for loop to print message to all guest for invitation\n",
    "for guest in guest_list:\n",
    "    print(f\"{guest}, You are invited for dinner\")\n",
    "\n",
    "\n",
    "# take input user for not_to_attend_guest and new_guest who replace him\n",
    "not_to_attend_guest = input(\"Enter name of guest who can't make dinner: \")\n",
    "new_guest = input(\"Enter name of new Guest who invited you: \")\n",
    "\n",
    "#declare variable to find index of not_to_attend_guest\n",
    "index_of_not_attend_guest = guest_list.index(not_to_attend_guest)\n",
    "\n",
    "# replace new_guest from not_to_attend_guest\n",
    "guest_list[index_of_not_attend_guest] = new_guest\n",
    "\n",
    "#print guest list to see what user gave input\n",
    "print(guest_list)\n",
    "\n",
    "# using for loop to print message to all guest\n",
    "for guest in guest_list:\n",
    "    print(f\"{guest}, You are invited for dinner\")\n",
    "\n",
    "\n",
    "#print a message about bigger dinner table:\n",
    "print(\"Good news! We found a bigger dinner table, so we have more space for additional guests!\")\n",
    "\n",
    "# take input from user for 3 new guests\n",
    "add_new_guest1 = input(\"Add new guest no. 1: \")\n",
    "add_new_guest2 = input(\"Add new guest no. 2: \")\n",
    "add_new_guest3 = input(\"Add new guest no. 3: \")\n",
    "\n",
    "# insert and append new guests in guest_list\n",
    "guest_list.insert(0, add_new_guest1)\n",
    "guest_list.insert(3, add_new_guest2)\n",
    "guest_list.append(add_new_guest3)\n",
    "\n",
    "\n",
    "#print guest list to see what user gave input\n",
    "print(guest_list)\n",
    "\n",
    "# using for loop to print message to all guest\n",
    "for guest in guest_list:\n",
    "    print(f\"{guest}, You are invited for dinner\")\n",
    "\n",
    "\n",
    "#print a message about won't arrive in time for dinner\n",
    "print(\"Unfortunately! new dinner table won’t arrive in time for the dinner, and we have space for only two guests\")\n",
    "\n",
    "\n",
    "# using for loop for append user name into list\n",
    "for i in range(len(guest_list) - 2):\n",
    "    remove_guests = input(f\"Enter the name of guest {i+1}: \")\n",
    "\n",
    "# #declare variable to find index of remove_guest\n",
    "    index_of_remove_guest = guest_list.index(remove_guests)\n",
    "\n",
    "# remove guest by using pop()\n",
    "    guest_list.pop(index_of_remove_guest)\n",
    "    print(f\"{remove_guests}, Sorry! we can't invite you for dinner\")\n",
    "\n",
    "\n",
    "#print guest list to see what user gave input\n",
    "print(guest_list)\n",
    "\n",
    "# using for loop to print message to all  remainig guests\n",
    "for guest in guest_list:\n",
    "    print(f\"{guest}, You are still invited for dinner\")\n",
    "\n",
    "# Now delete remaining guests from list by del()\n",
    "del guest_list[:]\n",
    "print(f\"remaining guests also removed from list\")\n",
    "\n",
    "#Now list is completely empty\n",
    "print(f\"Now guest_list is completely empty\")\n",
    "print(guest_list)"
   ]
  },
  {
   "cell_type": "code",
   "execution_count": null,
   "id": "ca912e24-01c4-4894-a37a-e96c2a004971",
   "metadata": {},
   "outputs": [],
   "source": []
  },
  {
   "cell_type": "code",
   "execution_count": null,
   "id": "fce9b607-d11f-4d1c-94f8-f876bdbf563c",
   "metadata": {},
   "outputs": [],
   "source": []
  },
  {
   "cell_type": "markdown",
   "id": "15c44c30-305c-457e-b5db-2a5e471629aa",
   "metadata": {},
   "source": [
    "##### Question 4.1"
   ]
  },
  {
   "cell_type": "code",
   "execution_count": 99,
   "id": "89c6d669-2fa8-41f3-89bd-ad7d50d67f36",
   "metadata": {},
   "outputs": [
    {
     "name": "stdin",
     "output_type": "stream",
     "text": [
      "How many guests would you like to invite?  1\n",
      "Enter the name of guest 1:  anas\n"
     ]
    },
    {
     "name": "stdout",
     "output_type": "stream",
     "text": [
      "['anas']\n",
      "anas, You are invited for dinner\n"
     ]
    }
   ],
   "source": [
    "# 4-1. Guest List: If you could invite anyone, living or deceased, to dinner, who would you invite? \n",
    "# Make a list that includes at least three people you’d like to invite to dinner.\n",
    "# Then use your list to print a message to each person,inviting them to dinner.\n",
    "\n",
    "\n",
    "#take input for no. of guest to invite\n",
    "num_guests = int(input(\"How many guests would you like to invite? \"))\n",
    "\n",
    "# empty guest list\n",
    "guest_list = []\n",
    "\n",
    "# using for loop for append user name into list\n",
    "for i in range(num_guests):\n",
    "    guest_names = input(f\"Enter the name of guest {i+1}: \")\n",
    "    guest_list.append(guest_names)\n",
    "\n",
    "#print guest list to see what user gave input\n",
    "print(guest_list)\n",
    "\n",
    "# using for loop to print message to all guest\n",
    "for guest in guest_list:\n",
    "    message = f\"{guest}, You are invited for dinner\"\n",
    "    print(message)"
   ]
  },
  {
   "cell_type": "markdown",
   "id": "6533b1d5-47b7-47d6-af28-3f8d66f40148",
   "metadata": {},
   "source": [
    "##### Question 4.2"
   ]
  },
  {
   "cell_type": "code",
   "execution_count": 100,
   "id": "af935146-8c30-4521-89e2-6a8ed908b34a",
   "metadata": {},
   "outputs": [
    {
     "name": "stdin",
     "output_type": "stream",
     "text": [
      "Enter name of guest who can't make dinner:  anas\n"
     ]
    },
    {
     "name": "stdout",
     "output_type": "stream",
     "text": [
      "anas, Unfortunately! can't make a dinner\n"
     ]
    },
    {
     "name": "stdin",
     "output_type": "stream",
     "text": [
      "Enter name of new Guest who invited you ghulam\n"
     ]
    },
    {
     "name": "stdout",
     "output_type": "stream",
     "text": [
      "['ghulam']\n",
      "ghulam, You are invited for dinner\n"
     ]
    }
   ],
   "source": [
    "# 4-2. Changing Guest List: You just heard that one of your guests can’t make the dinner,\n",
    "# so you need to send out a new set of invitations. You’ll have to think of someone else to invite. \n",
    "# •     Start with your program from Exercise 4-1. Add a print statement at the\n",
    "# end of your program stating the name of the guest who can’t make it. \n",
    "# •     Modify your list, replacing the name of the guest who can’t make it with\n",
    "# the name of the new person you are inviting. \n",
    "# •     Print a second set of invitation messages, one for each person who is still\n",
    "# in your list. \n",
    "\n",
    "\n",
    "# take input user for not_to_attend_guest and new_guest who repkace him\n",
    "not_to_attend_guest = input(\"Enter name of guest who can't make dinner: \")\n",
    "print(f\"{not_to_attend_guest}, Unfortunately! can't make a dinner\")\n",
    "new_guest = input(\"Enter name of new Guest who invited you\")\n",
    "\n",
    "#declare variable to find index of not_to_attend_guest\n",
    "index_of_not_attend_guest = guest_list.index(not_to_attend_guest)\n",
    "\n",
    "# replace new_guest from not_to_attend_guest\n",
    "guest_list[index_of_not_attend_guest] = new_guest\n",
    "\n",
    "#print guest list to see what user gave input\n",
    "print(guest_list)\n",
    "\n",
    "# using for loop to print message to all guest\n",
    "for guest in guest_list:\n",
    "    message = f\"{guest}, You are invited for dinner\"\n",
    "    print(message)"
   ]
  },
  {
   "cell_type": "markdown",
   "id": "c226f830-3604-4743-b041-b1e37081e0ba",
   "metadata": {},
   "source": [
    "##### Question 4.3"
   ]
  },
  {
   "cell_type": "code",
   "execution_count": 101,
   "id": "1a422c5a-9bf8-4081-8ca2-997fcd13c0d4",
   "metadata": {},
   "outputs": [
    {
     "name": "stdout",
     "output_type": "stream",
     "text": [
      "Good news! We found a bigger dinner table, so we have more space for additional guests!\n"
     ]
    },
    {
     "name": "stdin",
     "output_type": "stream",
     "text": [
      "Add new guest no. 1 uzair\n",
      "Add new guest no. 2 hammad\n",
      "Add new guest no. 3 safeer\n"
     ]
    },
    {
     "name": "stdout",
     "output_type": "stream",
     "text": [
      "['uzair', 'ghulam', 'hammad', 'safeer']\n",
      "uzair, You are invited for dinner\n",
      "ghulam, You are invited for dinner\n",
      "hammad, You are invited for dinner\n",
      "safeer, You are invited for dinner\n"
     ]
    }
   ],
   "source": [
    "# 4-3. More Guests: You just found a bigger dinner table, so now more space is\n",
    "# available. Think of three more guests to invite to dinner.\n",
    "# •     Start with your program from Exercise 4-1 or Exercise 4-2. Add a print\n",
    "# statement to the end of your program informing people that you found a\n",
    "# bigger dinner table. \n",
    "# •     Use insert() to add one new guest to the beginning of your list. \n",
    "# •     Use insert() to add one new guest to the middle of your list. \n",
    "# •     Use append() to add one new guest to the end of your list. \n",
    "# •     Print a new set of invitation messages, one for each person in your list. \n",
    "\n",
    "\n",
    "\n",
    "#print a message about bigger dinner table:\n",
    "print(\"Good news! We found a bigger dinner table, so we have more space for additional guests!\")\n",
    "\n",
    "# take input from user for 3 new guests\n",
    "add_new_guest1 = input(\"Add new guest no. 1\")\n",
    "add_new_guest2 = input(\"Add new guest no. 2\")\n",
    "add_new_guest3 = input(\"Add new guest no. 3\")\n",
    "\n",
    "# insert and append new guests in guest_list\n",
    "guest_list.insert(0, add_new_guest1)\n",
    "guest_list.insert(3, add_new_guest2)\n",
    "guest_list.append(add_new_guest3)\n",
    "\n",
    "\n",
    "#print guest list to see what user gave input\n",
    "print(guest_list)\n",
    "\n",
    "# using for loop to print message to all guest\n",
    "for guest in guest_list:\n",
    "    message = f\"{guest}, You are invited for dinner\"\n",
    "    print(message)"
   ]
  },
  {
   "cell_type": "markdown",
   "id": "800bf857-737d-485a-86d0-b43d90290941",
   "metadata": {},
   "source": [
    "##### Question 4.4"
   ]
  },
  {
   "cell_type": "code",
   "execution_count": 102,
   "id": "f48729a9-34a4-4bee-825e-d0b7f2067959",
   "metadata": {},
   "outputs": [
    {
     "name": "stdout",
     "output_type": "stream",
     "text": [
      "Unfortunately! new dinner table won’t arrive in time for the dinner, and we have space for only two guests\n"
     ]
    },
    {
     "name": "stdin",
     "output_type": "stream",
     "text": [
      "Enter the name of guest 1:  uzair\n"
     ]
    },
    {
     "name": "stdout",
     "output_type": "stream",
     "text": [
      "uzair, Sorry! we can't invite you for dinner\n"
     ]
    },
    {
     "name": "stdin",
     "output_type": "stream",
     "text": [
      "Enter the name of guest 2:  hammad\n"
     ]
    },
    {
     "name": "stdout",
     "output_type": "stream",
     "text": [
      "hammad, Sorry! we can't invite you for dinner\n",
      "['ghulam', 'safeer']\n",
      "ghulam, You are still invited for dinner\n",
      "safeer, You are still invited for dinner\n"
     ]
    }
   ],
   "source": [
    "#  4-4. Shrinking Guest List: You just found out that your new dinner table won’t\n",
    "# arrive in time for the dinner, and you have space for only two guests. \n",
    "# •     Start with your program from Exercise 4-3. Add a new line that prints a\n",
    "# message saying that you can invite only two people for dinner. \n",
    "# •     Use pop() to remove guests from your list one at a time until only two\n",
    "# names remain in your list. Each time you pop a name from your list, print\n",
    "# a message to that person letting them know you’re sorry you can’t invite\n",
    "# them to dinner. \n",
    "# •     Print a message to each of the two people still on your list, letting them\n",
    "# know they’re still invited. \n",
    "# •     Use del to remove the last two names from your list, so you have an empty\n",
    "# list. Print your list to make sure you actually have an empty list at the end\n",
    "# of your program.\n",
    "\n",
    "\n",
    "\n",
    "#print a message about won't arrive in time for dinner\n",
    "print(\"Unfortunately! new dinner table won’t arrive in time for the dinner, and we have space for only two guests\")\n",
    "\n",
    "\n",
    "# using for loop for append user name into list\n",
    "for i in range(len(guest_list) - 2):\n",
    "    remove_guests = input(f\"Enter the name of guest {i+1}: \")\n",
    "\n",
    "# #declare variable to find index of remove_guest\n",
    "    index_of_remove_guest = guest_list.index(remove_guests)\n",
    "\n",
    "# remove guest by using pop()\n",
    "    guest_list.pop(index_of_remove_guest)\n",
    "    print(f\"{remove_guests}, Sorry! we can't invite you for dinner\")\n",
    "\n",
    "\n",
    "#print guest list to see what user gave input\n",
    "print(guest_list)\n",
    "\n",
    "# using for loop to print message to all guest\n",
    "for guest in guest_list:\n",
    "    print(f\"{guest}, You are still invited for dinner\")\n",
    "\n"
   ]
  },
  {
   "cell_type": "code",
   "execution_count": 104,
   "id": "8dcd14a2-c34d-4e86-93a7-b8eb22f083fa",
   "metadata": {},
   "outputs": [
    {
     "name": "stdout",
     "output_type": "stream",
     "text": [
      "remaining guests also removed from list\n",
      "Now guest_list is completely empty\n",
      "[]\n"
     ]
    }
   ],
   "source": [
    "del guest_list[:]\n",
    "print(f\"remaining guests also removed from list\")\n",
    "\n",
    "print(f\"Now guest_list is completely empty\")\n",
    "print(guest_list)"
   ]
  },
  {
   "cell_type": "code",
   "execution_count": 105,
   "id": "79105184-bc95-4823-925f-19f2b1d19410",
   "metadata": {},
   "outputs": [
    {
     "data": {
      "text/plain": [
       "[]"
      ]
     },
     "execution_count": 105,
     "metadata": {},
     "output_type": "execute_result"
    }
   ],
   "source": [
    "guest_list"
   ]
  },
  {
   "cell_type": "code",
   "execution_count": 55,
   "id": "2cbd1497-60c8-4bb3-9d7e-2ba026e2547b",
   "metadata": {},
   "outputs": [
    {
     "data": {
      "text/plain": [
       "[20, 32, 32, 11, 43, 57, 65, 55, 78, 83]"
      ]
     },
     "execution_count": 55,
     "metadata": {},
     "output_type": "execute_result"
    }
   ],
   "source": [
    "# 4-5. Make an another list you wish and perform indexing and slicing operations on it.\n",
    "num_list = [20, 32, 32, 11, 43, 57, 65, 55, 78, 83]\n",
    "num_list"
   ]
  },
  {
   "cell_type": "code",
   "execution_count": 56,
   "id": "f12d3707-2c0c-40fd-8c49-21adab066a11",
   "metadata": {},
   "outputs": [
    {
     "data": {
      "text/plain": [
       "[20, 32, 32, 11]"
      ]
     },
     "execution_count": 56,
     "metadata": {},
     "output_type": "execute_result"
    }
   ],
   "source": [
    "num_list[0:4]   #from range 1 to 4"
   ]
  },
  {
   "cell_type": "code",
   "execution_count": 57,
   "id": "e74ed08a-122e-46cb-826e-05ed185e2c57",
   "metadata": {},
   "outputs": [
    {
     "data": {
      "text/plain": [
       "[43, 57, 65, 55]"
      ]
     },
     "execution_count": 57,
     "metadata": {},
     "output_type": "execute_result"
    }
   ],
   "source": [
    "num_list[4:8]  # from range 5 to 8"
   ]
  },
  {
   "cell_type": "code",
   "execution_count": 58,
   "id": "64cbca5f-5e53-4507-8d61-5360ff478997",
   "metadata": {},
   "outputs": [
    {
     "data": {
      "text/plain": [
       "[32, 57, 78]"
      ]
     },
     "execution_count": 58,
     "metadata": {},
     "output_type": "execute_result"
    }
   ],
   "source": [
    "num_list[2::3]  # from range 3 to end by stepping 3 values"
   ]
  },
  {
   "cell_type": "code",
   "execution_count": 109,
   "id": "6ee034ed-d4cf-415a-b072-efcf2bcf7ff6",
   "metadata": {},
   "outputs": [
    {
     "data": {
      "text/plain": [
       "6"
      ]
     },
     "execution_count": 109,
     "metadata": {},
     "output_type": "execute_result"
    }
   ],
   "source": [
    "num_list.index(65) #find index of item name (65)"
   ]
  },
  {
   "cell_type": "code",
   "execution_count": null,
   "id": "02e21cf3-6f69-4c04-bd6d-7c05948994bb",
   "metadata": {},
   "outputs": [],
   "source": []
  }
 ],
 "metadata": {
  "kernelspec": {
   "display_name": "Python 3 (ipykernel)",
   "language": "python",
   "name": "python3"
  },
  "language_info": {
   "codemirror_mode": {
    "name": "ipython",
    "version": 3
   },
   "file_extension": ".py",
   "mimetype": "text/x-python",
   "name": "python",
   "nbconvert_exporter": "python",
   "pygments_lexer": "ipython3",
   "version": "3.12.4"
  }
 },
 "nbformat": 4,
 "nbformat_minor": 5
}
